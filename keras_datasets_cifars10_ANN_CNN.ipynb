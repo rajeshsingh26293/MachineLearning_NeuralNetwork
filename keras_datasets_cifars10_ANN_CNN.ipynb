{
 "cells": [
  {
   "cell_type": "code",
   "execution_count": 26,
   "id": "9963d350",
   "metadata": {},
   "outputs": [],
   "source": [
    "import tensorflow as tf\n",
    "import numpy as np\n",
    "import pandas as pd\n",
    "import matplotlib.pyplot as plt\n",
    "from keras.models import Sequential\n",
    "from keras.layers import Dense, Flatten, Dropout"
   ]
  },
  {
   "cell_type": "code",
   "execution_count": 27,
   "id": "7ac548b9",
   "metadata": {},
   "outputs": [],
   "source": [
    "(x_train, y_train), (x_test, y_test) = keras.datasets.cifar10.load_data()"
   ]
  },
  {
   "cell_type": "code",
   "execution_count": 28,
   "id": "44bfb095",
   "metadata": {},
   "outputs": [
    {
     "data": {
      "text/plain": [
       "['airplane',\n",
       " 'automobile',\n",
       " 'bird',\n",
       " 'cat',\n",
       " 'deer',\n",
       " 'dog',\n",
       " 'frog',\n",
       " 'horse',\n",
       " 'ship',\n",
       " 'truck']"
      ]
     },
     "execution_count": 28,
     "metadata": {},
     "output_type": "execute_result"
    }
   ],
   "source": [
    "class_name = ['airplane', 'automobile', 'bird', 'cat', 'deer', 'dog', 'frog', 'horse', 'ship', 'truck']\n",
    "class_name"
   ]
  },
  {
   "cell_type": "code",
   "execution_count": 29,
   "id": "c4d11345",
   "metadata": {},
   "outputs": [
    {
     "data": {
      "text/plain": [
       "((50000, 32, 32, 3), (50000, 1), (10000, 32, 32, 3), (10000, 1))"
      ]
     },
     "execution_count": 29,
     "metadata": {},
     "output_type": "execute_result"
    }
   ],
   "source": [
    "x_train.shape, y_train.shape, x_test.shape, y_test.shape"
   ]
  },
  {
   "cell_type": "code",
   "execution_count": 30,
   "id": "279c0d5e",
   "metadata": {},
   "outputs": [
    {
     "data": {
      "text/plain": [
       "(0, 255, 0, 9)"
      ]
     },
     "execution_count": 30,
     "metadata": {},
     "output_type": "execute_result"
    }
   ],
   "source": [
    "x_train.min(), x_train.max(), y_train.min(), y_train.max()"
   ]
  },
  {
   "cell_type": "code",
   "execution_count": 31,
   "id": "4bf38302",
   "metadata": {},
   "outputs": [],
   "source": [
    "x_train = x_train/255.0\n",
    "x_test = x_test/255.0"
   ]
  },
  {
   "cell_type": "markdown",
   "id": "fb0ebfb5",
   "metadata": {},
   "source": [
    "# ANN"
   ]
  },
  {
   "cell_type": "code",
   "execution_count": 36,
   "id": "20309a98",
   "metadata": {},
   "outputs": [],
   "source": [
    "ann_model = Sequential([\n",
    "    Flatten(input_shape = (32,32,3)),\n",
    "    Dense(units=3000, activation='relu'),\n",
    "    Dropout(0.2),\n",
    "    Dense(10, activation='Softmax')\n",
    "])"
   ]
  },
  {
   "cell_type": "code",
   "execution_count": 37,
   "id": "cc09917b",
   "metadata": {},
   "outputs": [
    {
     "name": "stdout",
     "output_type": "stream",
     "text": [
      "Model: \"sequential_2\"\n",
      "_________________________________________________________________\n",
      " Layer (type)                Output Shape              Param #   \n",
      "=================================================================\n",
      " flatten_2 (Flatten)         (None, 3072)              0         \n",
      "                                                                 \n",
      " dense (Dense)               (None, 3000)              9219000   \n",
      "                                                                 \n",
      " dropout (Dropout)           (None, 3000)              0         \n",
      "                                                                 \n",
      " dense_1 (Dense)             (None, 10)                30010     \n",
      "                                                                 \n",
      "=================================================================\n",
      "Total params: 9,249,010\n",
      "Trainable params: 9,249,010\n",
      "Non-trainable params: 0\n",
      "_________________________________________________________________\n"
     ]
    }
   ],
   "source": [
    "ann_model.summary()"
   ]
  },
  {
   "cell_type": "code",
   "execution_count": 38,
   "id": "715f5dbb",
   "metadata": {},
   "outputs": [],
   "source": [
    "ann_model.compile(optimizer='adam',\n",
    "                 loss='sparse_categorical_crossentropy',\n",
    "                 metrics='accuracy')"
   ]
  },
  {
   "cell_type": "code",
   "execution_count": 39,
   "id": "f8fda3d4",
   "metadata": {},
   "outputs": [
    {
     "name": "stdout",
     "output_type": "stream",
     "text": [
      "Epoch 1/10\n",
      "1563/1563 [==============================] - 117s 72ms/step - loss: 1.9808 - accuracy: 0.3048\n",
      "Epoch 2/10\n",
      "1563/1563 [==============================] - 110s 71ms/step - loss: 1.7980 - accuracy: 0.3533\n",
      "Epoch 3/10\n",
      "1563/1563 [==============================] - 111s 71ms/step - loss: 1.7423 - accuracy: 0.3754\n",
      "Epoch 4/10\n",
      "1563/1563 [==============================] - 112s 71ms/step - loss: 1.7115 - accuracy: 0.3882\n",
      "Epoch 5/10\n",
      "1563/1563 [==============================] - 110s 71ms/step - loss: 1.6831 - accuracy: 0.3986\n",
      "Epoch 6/10\n",
      "1563/1563 [==============================] - 111s 71ms/step - loss: 1.6677 - accuracy: 0.4023\n",
      "Epoch 7/10\n",
      "1563/1563 [==============================] - 111s 71ms/step - loss: 1.6566 - accuracy: 0.4048\n",
      "Epoch 8/10\n",
      "1563/1563 [==============================] - 112s 72ms/step - loss: 1.6367 - accuracy: 0.4145\n",
      "Epoch 9/10\n",
      "1563/1563 [==============================] - 113s 72ms/step - loss: 1.6252 - accuracy: 0.4173\n",
      "Epoch 10/10\n",
      "1563/1563 [==============================] - 115s 74ms/step - loss: 1.6137 - accuracy: 0.4237\n"
     ]
    }
   ],
   "source": [
    "training = ann_model.fit(x_train, y_train, epochs=10)"
   ]
  },
  {
   "cell_type": "code",
   "execution_count": 40,
   "id": "bfe0fe2d",
   "metadata": {},
   "outputs": [
    {
     "name": "stdout",
     "output_type": "stream",
     "text": [
      "313/313 [==============================] - 9s 26ms/step - loss: 1.5514 - accuracy: 0.4473\n"
     ]
    }
   ],
   "source": [
    "evaluating = ann_model.evaluate(x_test, y_test)"
   ]
  },
  {
   "cell_type": "code",
   "execution_count": 42,
   "id": "21663b56",
   "metadata": {},
   "outputs": [],
   "source": [
    "from sklearn.metrics import confusion_matrix, accuracy_score"
   ]
  },
  {
   "cell_type": "code",
   "execution_count": 58,
   "id": "daf3eb6f",
   "metadata": {},
   "outputs": [
    {
     "data": {
      "text/plain": [
       "(array([3, 9, 8, ..., 3, 6, 7], dtype=int64),\n",
       " array([[3],\n",
       "        [8],\n",
       "        [8],\n",
       "        ...,\n",
       "        [5],\n",
       "        [1],\n",
       "        [7]], dtype=uint8))"
      ]
     },
     "execution_count": 58,
     "metadata": {},
     "output_type": "execute_result"
    }
   ],
   "source": [
    "y_pred = np.argmax(ann_model(x_test), axis=-1)\n",
    "y_pred, y_test"
   ]
  },
  {
   "cell_type": "code",
   "execution_count": 59,
   "id": "ca2fdf4f",
   "metadata": {},
   "outputs": [
    {
     "data": {
      "text/plain": [
       "(array([[376,  38,  62,  44,  26,  31,  32,  70, 233,  88],\n",
       "        [ 27, 534,   7,  31,   5,  34,  18,  47,  87, 210],\n",
       "        [ 58,  20, 253, 131,  90,  91, 190, 108,  38,  21],\n",
       "        [ 12,  18,  68, 316,  22, 224, 160,  86,  35,  59],\n",
       "        [ 36,  10, 121,  78, 234,  61, 251, 149,  34,  26],\n",
       "        [  5,  10,  77, 240,  29, 362, 109, 109,  33,  26],\n",
       "        [  5,  14,  52, 128,  49,  41, 629,  36,  16,  30],\n",
       "        [ 14,  17,  35,  79,  45,  85,  54, 571,  27,  73],\n",
       "        [ 66,  77,  11,  34,  12,  24,  21,  19, 640,  96],\n",
       "        [ 20, 145,  11,  54,   6,  24,  30,  57,  95, 558]], dtype=int64),\n",
       " 0.4473)"
      ]
     },
     "execution_count": 59,
     "metadata": {},
     "output_type": "execute_result"
    }
   ],
   "source": [
    "cm = confusion_matrix(y_test.reshape(-1, ), y_pred)\n",
    "a_s = accuracy_score(y_test.reshape(-1, ), y_pred)\n",
    "cm, a_s"
   ]
  },
  {
   "cell_type": "markdown",
   "id": "99ec4ff1",
   "metadata": {},
   "source": [
    "# CNN"
   ]
  },
  {
   "cell_type": "code",
   "execution_count": 64,
   "id": "3ed69b0a",
   "metadata": {},
   "outputs": [],
   "source": [
    "from keras.layers import Conv2D, MaxPool2D"
   ]
  },
  {
   "cell_type": "code",
   "execution_count": 68,
   "id": "512c63a6",
   "metadata": {},
   "outputs": [],
   "source": [
    "cnn_model = Sequential([\n",
    "    Conv2D(filters=32, kernel_size=(3,3), activation='relu', input_shape=(32,32,3)),\n",
    "    MaxPool2D((2,2)),\n",
    "    \n",
    "    Conv2D(filters=64, kernel_size=(3,3), activation='relu'),\n",
    "    MaxPool2D((2,2)),\n",
    "    \n",
    "    Flatten(input_shape=(32,32,3)),\n",
    "    Dense(units=64, activation='relu'),\n",
    "    Dense(10, activation='Softmax')\n",
    "])"
   ]
  },
  {
   "cell_type": "code",
   "execution_count": 69,
   "id": "d582f5c9",
   "metadata": {},
   "outputs": [],
   "source": [
    "cnn_model.compile(optimizer='adam', loss='sparse_categorical_crossentropy', metrics='accuracy')"
   ]
  },
  {
   "cell_type": "code",
   "execution_count": 70,
   "id": "4aa16c4d",
   "metadata": {},
   "outputs": [
    {
     "name": "stdout",
     "output_type": "stream",
     "text": [
      "Epoch 1/10\n",
      "1563/1563 [==============================] - 66s 40ms/step - loss: 1.4720 - accuracy: 0.4737\n",
      "Epoch 2/10\n",
      "1563/1563 [==============================] - 60s 38ms/step - loss: 1.1104 - accuracy: 0.6108\n",
      "Epoch 3/10\n",
      "1563/1563 [==============================] - 61s 39ms/step - loss: 0.9715 - accuracy: 0.6618\n",
      "Epoch 4/10\n",
      "1563/1563 [==============================] - 61s 39ms/step - loss: 0.8894 - accuracy: 0.6907\n",
      "Epoch 5/10\n",
      "1563/1563 [==============================] - 62s 40ms/step - loss: 0.8180 - accuracy: 0.7176\n",
      "Epoch 6/10\n",
      "1563/1563 [==============================] - 60s 38ms/step - loss: 0.7656 - accuracy: 0.7334\n",
      "Epoch 7/10\n",
      "1563/1563 [==============================] - 61s 39ms/step - loss: 0.7220 - accuracy: 0.7482\n",
      "Epoch 8/10\n",
      "1563/1563 [==============================] - 62s 40ms/step - loss: 0.6809 - accuracy: 0.7634\n",
      "Epoch 9/10\n",
      "1563/1563 [==============================] - 60s 39ms/step - loss: 0.6355 - accuracy: 0.7795\n",
      "Epoch 10/10\n",
      "1563/1563 [==============================] - 61s 39ms/step - loss: 0.5993 - accuracy: 0.7907\n"
     ]
    },
    {
     "data": {
      "text/plain": [
       "<keras.callbacks.History at 0x20504029460>"
      ]
     },
     "execution_count": 70,
     "metadata": {},
     "output_type": "execute_result"
    }
   ],
   "source": [
    "cnn_model.fit(x_train, y_train, epochs=10)"
   ]
  },
  {
   "cell_type": "code",
   "execution_count": 71,
   "id": "1fd92234",
   "metadata": {},
   "outputs": [
    {
     "name": "stdout",
     "output_type": "stream",
     "text": [
      "313/313 [==============================] - 8s 23ms/step - loss: 0.9369 - accuracy: 0.7034\n"
     ]
    },
    {
     "data": {
      "text/plain": [
       "[0.9369294047355652, 0.7034000158309937]"
      ]
     },
     "execution_count": 71,
     "metadata": {},
     "output_type": "execute_result"
    }
   ],
   "source": [
    "cnn_model.evaluate(x_test, y_test)"
   ]
  },
  {
   "cell_type": "code",
   "execution_count": 79,
   "id": "e6a48e2e",
   "metadata": {},
   "outputs": [
    {
     "name": "stdout",
     "output_type": "stream",
     "text": [
      "313/313 [==============================] - 8s 26ms/step\n"
     ]
    }
   ],
   "source": [
    "y_pred=np.argmax(cnn_model.predict(x_test), axis=-1)"
   ]
  },
  {
   "cell_type": "code",
   "execution_count": 81,
   "id": "03d496eb",
   "metadata": {},
   "outputs": [
    {
     "data": {
      "text/plain": [
       "(array([3, 8, 8, ..., 7, 4, 7], dtype=int64),\n",
       " array([[3],\n",
       "        [8],\n",
       "        [8],\n",
       "        ...,\n",
       "        [5],\n",
       "        [1],\n",
       "        [7]], dtype=uint8))"
      ]
     },
     "execution_count": 81,
     "metadata": {},
     "output_type": "execute_result"
    }
   ],
   "source": [
    "y_pred, y_test"
   ]
  },
  {
   "cell_type": "code",
   "execution_count": 82,
   "id": "10f8a562",
   "metadata": {},
   "outputs": [
    {
     "data": {
      "text/plain": [
       "(array([3, 8, 8, ..., 7, 4, 7], dtype=int64),\n",
       " array([3, 8, 8, ..., 5, 1, 7], dtype=uint8))"
      ]
     },
     "execution_count": 82,
     "metadata": {},
     "output_type": "execute_result"
    }
   ],
   "source": [
    "y_pred, y_test.reshape(-1, )"
   ]
  },
  {
   "cell_type": "code",
   "execution_count": 83,
   "id": "858a67db",
   "metadata": {},
   "outputs": [
    {
     "data": {
      "text/plain": [
       "(array([[757,  20,  52,  11,  22,   5,   7,  10,  96,  20],\n",
       "        [ 27, 828,  11,   5,   8,   2,  15,   6,  42,  56],\n",
       "        [ 64,   5, 520,  49, 135,  55,  94,  59,  15,   4],\n",
       "        [ 30,  10,  65, 465, 106, 126, 104,  69,  21,   4],\n",
       "        [ 25,   2,  47,  32, 677,  19,  82,  99,  16,   1],\n",
       "        [ 12,   6,  45, 157,  80, 552,  37,  98,  10,   3],\n",
       "        [  7,   2,  32,  38,  33,  10, 860,  10,   5,   3],\n",
       "        [ 16,   3,  31,  22,  59,  35,  12, 810,   6,   6],\n",
       "        [ 57,  28,   9,   9,  11,   6,  10,   7, 852,  11],\n",
       "        [ 39, 106,  15,  13,  11,  12,  11,  28,  52, 713]], dtype=int64),\n",
       " 0.7034)"
      ]
     },
     "execution_count": 83,
     "metadata": {},
     "output_type": "execute_result"
    }
   ],
   "source": [
    "from sklearn.metrics import confusion_matrix, accuracy_score\n",
    "cm = confusion_matrix(y_test, y_pred)\n",
    "a_s = accuracy_score(y_test, y_pred)\n",
    "cm, a_s"
   ]
  },
  {
   "cell_type": "code",
   "execution_count": null,
   "id": "18a7dd9d",
   "metadata": {},
   "outputs": [],
   "source": []
  }
 ],
 "metadata": {
  "kernelspec": {
   "display_name": "Python 3 (ipykernel)",
   "language": "python",
   "name": "python3"
  },
  "language_info": {
   "codemirror_mode": {
    "name": "ipython",
    "version": 3
   },
   "file_extension": ".py",
   "mimetype": "text/x-python",
   "name": "python",
   "nbconvert_exporter": "python",
   "pygments_lexer": "ipython3",
   "version": "3.9.12"
  }
 },
 "nbformat": 4,
 "nbformat_minor": 5
}
